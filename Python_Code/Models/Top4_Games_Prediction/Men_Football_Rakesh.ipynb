{
 "cells": [
  {
   "cell_type": "code",
   "execution_count": 6,
   "id": "a644c081",
   "metadata": {},
   "outputs": [],
   "source": [
    "import warnings\n",
    "warnings.filterwarnings('ignore')\n",
    "import pandas as pd\n",
    "import numpy as np\n",
    "from sklearn.model_selection import train_test_split\n",
    "from sklearn.preprocessing import StandardScaler"
   ]
  },
  {
   "cell_type": "code",
   "execution_count": 8,
   "id": "50f09424",
   "metadata": {},
   "outputs": [],
   "source": [
    "#Importing Clean Data\n",
    "data_frame=pd.read_csv('Cleaned_Olympic_Data.csv')"
   ]
  },
  {
   "cell_type": "code",
   "execution_count": 17,
   "id": "922f5fcb",
   "metadata": {},
   "outputs": [
    {
     "data": {
      "text/plain": [
       "Football Men's Football        5733\n",
       "Ice Hockey Men's Ice Hockey    4762\n",
       "Hockey Men's Hockey            3958\n",
       "Water Polo Men's Water Polo    3358\n",
       "Basketball Men's Basketball    3280\n",
       "Name: Event, dtype: int64"
      ]
     },
     "execution_count": 17,
     "metadata": {},
     "output_type": "execute_result"
    }
   ],
   "source": [
    "#Finding top 5 events\n",
    "#We'll build our perediction models on these 5 games\n",
    "data_frame['Event'].value_counts()[0:5]"
   ]
  },
  {
   "cell_type": "raw",
   "id": "79d95c7c",
   "metadata": {},
   "source": [
    "*We had encoded data in Event columns based on frequency count.\n",
    "*To build a model on Men's Football we should filter our encoded data based on \"5733\" value."
   ]
  },
  {
   "cell_type": "code",
   "execution_count": 12,
   "id": "7a47222d",
   "metadata": {},
   "outputs": [],
   "source": [
    "Encoded_Data=pd.read_csv('Encoded_Data.csv')"
   ]
  },
  {
   "cell_type": "code",
   "execution_count": 14,
   "id": "2bccaf02",
   "metadata": {},
   "outputs": [],
   "source": [
    "Men_Football=Encoded_Data[Encoded_Data['Event']==5733]"
   ]
  },
  {
   "cell_type": "code",
   "execution_count": 22,
   "id": "07549440",
   "metadata": {},
   "outputs": [],
   "source": [
    "X = Men_Football.drop('Medal',axis=1)\n",
    "Y = Men_Football[['Medal']]"
   ]
  },
  {
   "cell_type": "code",
   "execution_count": 23,
   "id": "25ee3e5b",
   "metadata": {},
   "outputs": [],
   "source": [
    "x_train, x_test, y_train, y_test = train_test_split(X, Y, test_size = 0.33, random_state = 100)"
   ]
  },
  {
   "cell_type": "code",
   "execution_count": 24,
   "id": "5fec17f2",
   "metadata": {},
   "outputs": [
    {
     "name": "stdout",
     "output_type": "stream",
     "text": [
      "X_train shape: (3841, 10)\n",
      "X_test shape: (1892, 10)\n",
      "Y_train shape: (3841, 1)\n",
      "Y_test shape: (1892, 1)\n"
     ]
    }
   ],
   "source": [
    "print(\"X_train shape:\", x_train.shape) \n",
    "print(\"X_test shape:\", x_test.shape) \n",
    "print(\"Y_train shape:\", y_train.shape) \n",
    "print(\"Y_test shape:\", y_test.shape)"
   ]
  },
  {
   "cell_type": "code",
   "execution_count": 25,
   "id": "c2e03f5a",
   "metadata": {},
   "outputs": [],
   "source": [
    "from sklearn.ensemble import RandomForestClassifier\n",
    "ran_for = RandomForestClassifier(random_state = 42)\n",
    "ran_for.fit(x_train, y_train)\n",
    "Y_pred_ran_for = ran_for.predict(x_test)\n"
   ]
  },
  {
   "cell_type": "code",
   "execution_count": 26,
   "id": "390b4e93",
   "metadata": {},
   "outputs": [
    {
     "name": "stdout",
     "output_type": "stream",
     "text": [
      "Random Forest Classifier:\n",
      "Accuracy score: 98.89\n"
     ]
    }
   ],
   "source": [
    "from sklearn.metrics import accuracy_score\n",
    "print('Random Forest Classifier:')\n",
    "print('Accuracy score:',round(accuracy_score(y_test, Y_pred_ran_for) * 100, 2))\n"
   ]
  },
  {
   "cell_type": "code",
   "execution_count": 27,
   "id": "bf77ad35",
   "metadata": {},
   "outputs": [
    {
     "data": {
      "text/plain": [
       "0.9755299767013437"
      ]
     },
     "execution_count": 27,
     "metadata": {},
     "output_type": "execute_result"
    }
   ],
   "source": [
    "from sklearn.model_selection import RandomizedSearchCV\n",
    "n_estimators = [int(x) for x in np.linspace(start = 40, stop = 150, num = 15)]\n",
    "max_depth = [int(x) for x in np.linspace(40, 150, num = 15)]\n",
    "param_dist = {\n",
    "    'n_estimators' : n_estimators,\n",
    "    'max_depth' : max_depth,\n",
    "}\n",
    "rf_tuned = RandomForestClassifier(random_state = 42)\n",
    "rf_cv = RandomizedSearchCV(estimator = rf_tuned, param_distributions = param_dist, cv = 5, random_state = 42)\n",
    "rf_cv.fit(x_train, y_train)\n",
    "rf_cv.best_score_"
   ]
  },
  {
   "cell_type": "code",
   "execution_count": 28,
   "id": "a5497315",
   "metadata": {},
   "outputs": [
    {
     "data": {
      "text/plain": [
       "{'n_estimators': 142, 'max_depth': 110}"
      ]
     },
     "execution_count": 28,
     "metadata": {},
     "output_type": "execute_result"
    }
   ],
   "source": [
    "rf_cv.best_params_"
   ]
  },
  {
   "cell_type": "code",
   "execution_count": 29,
   "id": "ad978acf",
   "metadata": {},
   "outputs": [
    {
     "name": "stdout",
     "output_type": "stream",
     "text": [
      "              precision    recall  f1-score   support\n",
      "\n",
      "           0       0.99      1.00      0.99      1470\n",
      "           1       0.99      0.97      0.98       127\n",
      "           2       1.00      0.96      0.98       149\n",
      "           3       1.00      0.92      0.96       146\n",
      "\n",
      "    accuracy                           0.99      1892\n",
      "   macro avg       0.99      0.96      0.98      1892\n",
      "weighted avg       0.99      0.99      0.99      1892\n",
      "\n"
     ]
    }
   ],
   "source": [
    "from sklearn.metrics import classification_report\n",
    "print(classification_report(y_test, Y_pred_ran_for))"
   ]
  }
 ],
 "metadata": {
  "kernelspec": {
   "display_name": "Python 3 (ipykernel)",
   "language": "python",
   "name": "python3"
  },
  "language_info": {
   "codemirror_mode": {
    "name": "ipython",
    "version": 3
   },
   "file_extension": ".py",
   "mimetype": "text/x-python",
   "name": "python",
   "nbconvert_exporter": "python",
   "pygments_lexer": "ipython3",
   "version": "3.9.7"
  }
 },
 "nbformat": 4,
 "nbformat_minor": 5
}
