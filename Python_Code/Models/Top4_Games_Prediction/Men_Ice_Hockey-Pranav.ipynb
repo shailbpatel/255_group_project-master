{
 "cells": [
  {
   "cell_type": "code",
   "execution_count": 1,
   "id": "dcbd57ca",
   "metadata": {},
   "outputs": [],
   "source": [
    "import warnings\n",
    "warnings.filterwarnings('ignore')\n",
    "import pandas as pd\n",
    "import numpy as np\n",
    "from sklearn.model_selection import train_test_split\n",
    "from sklearn.preprocessing import StandardScaler"
   ]
  },
  {
   "cell_type": "code",
   "execution_count": 2,
   "id": "91e038e1",
   "metadata": {},
   "outputs": [],
   "source": [
    "Encoded_Data=pd.read_csv('Encoded_Data.csv')"
   ]
  },
  {
   "cell_type": "code",
   "execution_count": 3,
   "id": "b68de647",
   "metadata": {},
   "outputs": [],
   "source": [
    "Men_Ice_Hockey=Encoded_Data[Encoded_Data['Event']==4762]"
   ]
  },
  {
   "cell_type": "code",
   "execution_count": 6,
   "id": "2d832378",
   "metadata": {},
   "outputs": [],
   "source": [
    "X = Men_Ice_Hockey.drop('Medal',axis=1)\n",
    "Y = Men_Ice_Hockey[['Medal']]"
   ]
  },
  {
   "cell_type": "code",
   "execution_count": 7,
   "id": "a81d5a46",
   "metadata": {},
   "outputs": [],
   "source": [
    "x_train, x_test, y_train, y_test = train_test_split(X, Y, test_size = 0.33, random_state = 100)"
   ]
  },
  {
   "cell_type": "code",
   "execution_count": 8,
   "id": "299cc604",
   "metadata": {},
   "outputs": [
    {
     "name": "stdout",
     "output_type": "stream",
     "text": [
      "X_train shape: (3190, 10)\n",
      "X_test shape: (1572, 10)\n",
      "Y_train shape: (3190, 1)\n",
      "Y_test shape: (1572, 1)\n"
     ]
    }
   ],
   "source": [
    "print(\"X_train shape:\", x_train.shape) \n",
    "print(\"X_test shape:\", x_test.shape) \n",
    "print(\"Y_train shape:\", y_train.shape) \n",
    "print(\"Y_test shape:\", y_test.shape)"
   ]
  },
  {
   "cell_type": "code",
   "execution_count": 13,
   "id": "b31324ac",
   "metadata": {},
   "outputs": [],
   "source": [
    "from sklearn.ensemble import RandomForestClassifier\n",
    "ran_for = RandomForestClassifier(random_state = 50)\n",
    "ran_for.fit(x_train, y_train)\n",
    "Y_pred_ran_for = ran_for.predict(x_test)"
   ]
  },
  {
   "cell_type": "code",
   "execution_count": 14,
   "id": "0dd6f502",
   "metadata": {},
   "outputs": [
    {
     "name": "stdout",
     "output_type": "stream",
     "text": [
      "Random Forest Classifier:\n",
      "Accuracy score: 99.05\n"
     ]
    }
   ],
   "source": [
    "from sklearn.metrics import accuracy_score\n",
    "print('Random Forest Classifier:')\n",
    "print('Accuracy score:',round(accuracy_score(y_test, Y_pred_ran_for) * 100, 2))"
   ]
  },
  {
   "cell_type": "code",
   "execution_count": 17,
   "id": "a7c90ceb",
   "metadata": {},
   "outputs": [
    {
     "data": {
      "text/plain": [
       "0.9871473354231973"
      ]
     },
     "execution_count": 17,
     "metadata": {},
     "output_type": "execute_result"
    }
   ],
   "source": [
    "from sklearn.model_selection import RandomizedSearchCV\n",
    "n_estimators = [int(x) for x in np.linspace(start = 60, stop = 250, num = 15)]\n",
    "max_depth = [int(x) for x in np.linspace(40, 150, num = 15)]\n",
    "param_dist = {\n",
    "    'n_estimators' : n_estimators,\n",
    "    'max_depth' : max_depth,\n",
    "}\n",
    "rf_tuned = RandomForestClassifier(random_state = 42)\n",
    "rf_cv = RandomizedSearchCV(estimator = rf_tuned, param_distributions = param_dist, cv = 5, random_state = 42)\n",
    "rf_cv.fit(x_train, y_train)\n",
    "rf_cv.best_score_"
   ]
  },
  {
   "cell_type": "code",
   "execution_count": 18,
   "id": "d5781478",
   "metadata": {},
   "outputs": [
    {
     "data": {
      "text/plain": [
       "{'n_estimators': 114, 'max_depth': 134}"
      ]
     },
     "execution_count": 18,
     "metadata": {},
     "output_type": "execute_result"
    }
   ],
   "source": [
    "rf_cv.best_params_"
   ]
  },
  {
   "cell_type": "code",
   "execution_count": 19,
   "id": "ec8ad6a8",
   "metadata": {},
   "outputs": [
    {
     "name": "stdout",
     "output_type": "stream",
     "text": [
      "              precision    recall  f1-score   support\n",
      "\n",
      "           0       0.99      1.00      1.00      1189\n",
      "           1       0.98      0.97      0.98       124\n",
      "           2       1.00      0.96      0.98       130\n",
      "           3       0.98      0.96      0.97       129\n",
      "\n",
      "    accuracy                           0.99      1572\n",
      "   macro avg       0.99      0.97      0.98      1572\n",
      "weighted avg       0.99      0.99      0.99      1572\n",
      "\n"
     ]
    }
   ],
   "source": [
    "from sklearn.metrics import classification_report\n",
    "print(classification_report(y_test, Y_pred_ran_for))"
   ]
  },
  {
   "cell_type": "code",
   "execution_count": null,
   "id": "30d72dfe",
   "metadata": {},
   "outputs": [],
   "source": []
  }
 ],
 "metadata": {
  "kernelspec": {
   "display_name": "Python 3 (ipykernel)",
   "language": "python",
   "name": "python3"
  },
  "language_info": {
   "codemirror_mode": {
    "name": "ipython",
    "version": 3
   },
   "file_extension": ".py",
   "mimetype": "text/x-python",
   "name": "python",
   "nbconvert_exporter": "python",
   "pygments_lexer": "ipython3",
   "version": "3.7.0"
  }
 },
 "nbformat": 4,
 "nbformat_minor": 5
}
