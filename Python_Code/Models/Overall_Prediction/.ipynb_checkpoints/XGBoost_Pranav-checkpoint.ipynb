{
 "cells": [
  {
   "cell_type": "code",
   "execution_count": 4,
   "id": "fd4e5ce3",
   "metadata": {
    "id": "fd4e5ce3"
   },
   "outputs": [],
   "source": [
    "import pandas as pd\n",
    "import numpy as np\n",
    "import warnings\n",
    "from sklearn.preprocessing import StandardScaler\n",
    "from sklearn.model_selection import train_test_split\n",
    "warnings.filterwarnings('ignore')\n",
    "\n"
   ]
  },
  {
   "cell_type": "code",
   "execution_count": 5,
   "id": "b3fbf051",
   "metadata": {
    "id": "b3fbf051"
   },
   "outputs": [],
   "source": [
    "#Importing Clean Data.\n",
    "data_frame=pd.read_csv('Encoded_Data.csv')"
   ]
  },
  {
   "cell_type": "code",
   "execution_count": 6,
   "id": "eacccb4a",
   "metadata": {},
   "outputs": [
    {
     "data": {
      "text/html": [
       "<div>\n",
       "<style scoped>\n",
       "    .dataframe tbody tr th:only-of-type {\n",
       "        vertical-align: middle;\n",
       "    }\n",
       "\n",
       "    .dataframe tbody tr th {\n",
       "        vertical-align: top;\n",
       "    }\n",
       "\n",
       "    .dataframe thead th {\n",
       "        text-align: right;\n",
       "    }\n",
       "</style>\n",
       "<table border=\"1\" class=\"dataframe\">\n",
       "  <thead>\n",
       "    <tr style=\"text-align: right;\">\n",
       "      <th></th>\n",
       "      <th>Sex</th>\n",
       "      <th>Age</th>\n",
       "      <th>Height</th>\n",
       "      <th>Weight</th>\n",
       "      <th>Team</th>\n",
       "      <th>NOC</th>\n",
       "      <th>Year</th>\n",
       "      <th>Season</th>\n",
       "      <th>City</th>\n",
       "      <th>Event</th>\n",
       "      <th>Medal</th>\n",
       "    </tr>\n",
       "  </thead>\n",
       "  <tbody>\n",
       "    <tr>\n",
       "      <th>0</th>\n",
       "      <td>1</td>\n",
       "      <td>24.0</td>\n",
       "      <td>180.0</td>\n",
       "      <td>80.0</td>\n",
       "      <td>4975</td>\n",
       "      <td>5141</td>\n",
       "      <td>1992</td>\n",
       "      <td>0</td>\n",
       "      <td>12977</td>\n",
       "      <td>3280</td>\n",
       "      <td>0</td>\n",
       "    </tr>\n",
       "    <tr>\n",
       "      <th>1</th>\n",
       "      <td>1</td>\n",
       "      <td>23.0</td>\n",
       "      <td>170.0</td>\n",
       "      <td>60.0</td>\n",
       "      <td>4975</td>\n",
       "      <td>5141</td>\n",
       "      <td>2012</td>\n",
       "      <td>0</td>\n",
       "      <td>22426</td>\n",
       "      <td>341</td>\n",
       "      <td>0</td>\n",
       "    </tr>\n",
       "    <tr>\n",
       "      <th>2</th>\n",
       "      <td>1</td>\n",
       "      <td>24.0</td>\n",
       "      <td>175.0</td>\n",
       "      <td>70.0</td>\n",
       "      <td>3424</td>\n",
       "      <td>3570</td>\n",
       "      <td>1920</td>\n",
       "      <td>0</td>\n",
       "      <td>4292</td>\n",
       "      <td>5733</td>\n",
       "      <td>0</td>\n",
       "    </tr>\n",
       "    <tr>\n",
       "      <th>3</th>\n",
       "      <td>1</td>\n",
       "      <td>34.0</td>\n",
       "      <td>175.0</td>\n",
       "      <td>70.0</td>\n",
       "      <td>6</td>\n",
       "      <td>3570</td>\n",
       "      <td>1900</td>\n",
       "      <td>0</td>\n",
       "      <td>7169</td>\n",
       "      <td>170</td>\n",
       "      <td>1</td>\n",
       "    </tr>\n",
       "    <tr>\n",
       "      <th>4</th>\n",
       "      <td>0</td>\n",
       "      <td>21.0</td>\n",
       "      <td>185.0</td>\n",
       "      <td>82.0</td>\n",
       "      <td>5718</td>\n",
       "      <td>5839</td>\n",
       "      <td>1988</td>\n",
       "      <td>1</td>\n",
       "      <td>2639</td>\n",
       "      <td>467</td>\n",
       "      <td>0</td>\n",
       "    </tr>\n",
       "  </tbody>\n",
       "</table>\n",
       "</div>"
      ],
      "text/plain": [
       "   Sex   Age  Height  Weight  Team   NOC  Year  Season   City  Event  Medal\n",
       "0    1  24.0   180.0    80.0  4975  5141  1992       0  12977   3280      0\n",
       "1    1  23.0   170.0    60.0  4975  5141  2012       0  22426    341      0\n",
       "2    1  24.0   175.0    70.0  3424  3570  1920       0   4292   5733      0\n",
       "3    1  34.0   175.0    70.0     6  3570  1900       0   7169    170      1\n",
       "4    0  21.0   185.0    82.0  5718  5839  1988       1   2639    467      0"
      ]
     },
     "execution_count": 6,
     "metadata": {},
     "output_type": "execute_result"
    }
   ],
   "source": [
    "data_frame.head()"
   ]
  },
  {
   "cell_type": "code",
   "execution_count": 43,
   "id": "9cf2bb79",
   "metadata": {
    "id": "9cf2bb79"
   },
   "outputs": [],
   "source": [
    "#Seperating Input and output Labels.\n",
    "X = data_frame.drop('Medal',axis=1)\n",
    "Y = data_frame[['Medal']]"
   ]
  },
  {
   "cell_type": "markdown",
   "id": "cfb6e267",
   "metadata": {
    "id": "cfb6e267"
   },
   "source": [
    "# Spliting Data"
   ]
  },
  {
   "cell_type": "code",
   "execution_count": 44,
   "id": "b224b240",
   "metadata": {
    "id": "b224b240"
   },
   "outputs": [],
   "source": [
    "x_train, x_test, y_train, y_test = train_test_split(X, Y, test_size = 0.33, random_state = 100)"
   ]
  },
  {
   "cell_type": "code",
   "execution_count": 45,
   "id": "123f91fb",
   "metadata": {
    "colab": {
     "base_uri": "https://localhost:8080/"
    },
    "id": "123f91fb",
    "outputId": "8a9247df-53d5-46ea-a53e-2df9bcafb071"
   },
   "outputs": [
    {
     "name": "stdout",
     "output_type": "stream",
     "text": [
      "X_train shape: (181647, 10)\n",
      "X_test shape: (89469, 10)\n",
      "Y_train shape: (181647, 1)\n",
      "Y_test shape: (89469, 1)\n"
     ]
    }
   ],
   "source": [
    "print(\"X_train shape:\", x_train.shape) \n",
    "print(\"X_test shape:\", x_test.shape) \n",
    "print(\"Y_train shape:\", y_train.shape) \n",
    "print(\"Y_test shape:\", y_test.shape)"
   ]
  },
  {
   "cell_type": "markdown",
   "id": "96371fb6",
   "metadata": {
    "id": "96371fb6"
   },
   "source": [
    "# XgBoosting and Adaboost Classifiers"
   ]
  },
  {
   "cell_type": "markdown",
   "id": "NzNMXoiih-Kw",
   "metadata": {
    "id": "NzNMXoiih-Kw"
   },
   "source": [
    "The XGBoost(Extreme Gradient Boosting) algorithm uses decision tree machine learning algorithm and boosting process which increases the  performance."
   ]
  },
  {
   "cell_type": "code",
   "execution_count": 46,
   "id": "ee4789d2",
   "metadata": {
    "id": "ee4789d2"
   },
   "outputs": [],
   "source": [
    "import xgboost as xgb\n",
    "from sklearn.datasets import load_wine\n",
    "from sklearn.metrics import accuracy_score\n",
    "from sklearn.metrics import classification_report\n",
    "from xgboost import XGBClassifier\n"
   ]
  },
  {
   "cell_type": "code",
   "execution_count": 47,
   "id": "Uhpfsk19fwcj",
   "metadata": {
    "id": "Uhpfsk19fwcj"
   },
   "outputs": [],
   "source": [
    "model = XGBClassifier(use_label_encoder=False, eval_metric='mlogloss')"
   ]
  },
  {
   "cell_type": "code",
   "execution_count": 48,
   "id": "p0oXV3hnf7Xz",
   "metadata": {
    "colab": {
     "base_uri": "https://localhost:8080/"
    },
    "id": "p0oXV3hnf7Xz",
    "outputId": "04fce4de-791c-460d-b6f8-e8e3d58af986"
   },
   "outputs": [
    {
     "data": {
      "text/plain": [
       "XGBClassifier(eval_metric='mlogloss', objective='multi:softprob',\n",
       "              use_label_encoder=False)"
      ]
     },
     "execution_count": 48,
     "metadata": {},
     "output_type": "execute_result"
    }
   ],
   "source": [
    "#Training model on train data.\n",
    "model.fit(x_train, y_train)"
   ]
  },
  {
   "cell_type": "code",
   "execution_count": 26,
   "id": "7j7l47HbgO4w",
   "metadata": {
    "id": "7j7l47HbgO4w"
   },
   "outputs": [],
   "source": [
    "#Predicting values for input test data\n",
    "y_pred = model.predict(x_test)"
   ]
  },
  {
   "cell_type": "code",
   "execution_count": 49,
   "id": "OEnNOVUhgbC-",
   "metadata": {
    "colab": {
     "base_uri": "https://localhost:8080/"
    },
    "id": "OEnNOVUhgbC-",
    "outputId": "b0dc9819-0cae-411f-9369-3eace771ae3f"
   },
   "outputs": [
    {
     "data": {
      "text/plain": [
       "0.8547206294917793"
      ]
     },
     "execution_count": 49,
     "metadata": {},
     "output_type": "execute_result"
    }
   ],
   "source": [
    "accuracy = accuracy_score(y_test, y_pred)\n",
    "accuracy"
   ]
  },
  {
   "cell_type": "markdown",
   "id": "pCerr7TyyHTX",
   "metadata": {
    "id": "pCerr7TyyHTX"
   },
   "source": [
    "From the Accuracy score we can assume that it is an efficient model for our dataset, but we should aslo see classification report for clear insights."
   ]
  },
  {
   "cell_type": "code",
   "execution_count": 29,
   "id": "WvQeRK7OgiJ6",
   "metadata": {
    "colab": {
     "base_uri": "https://localhost:8080/"
    },
    "id": "WvQeRK7OgiJ6",
    "outputId": "e51727bd-630b-48c8-ed4d-0490331be429"
   },
   "outputs": [
    {
     "name": "stdout",
     "output_type": "stream",
     "text": [
      "              precision    recall  f1-score   support\n",
      "\n",
      "           0       0.85      1.00      0.92     76435\n",
      "           1       0.71      0.01      0.01      4401\n",
      "           2       0.42      0.00      0.00      4361\n",
      "           3       0.38      0.00      0.00      4272\n",
      "\n",
      "    accuracy                           0.85     89469\n",
      "   macro avg       0.59      0.25      0.24     89469\n",
      "weighted avg       0.80      0.85      0.79     89469\n",
      "\n"
     ]
    }
   ],
   "source": [
    "print(classification_report(y_test, y_pred))"
   ]
  },
  {
   "cell_type": "markdown",
   "id": "fZYji6y4y20T",
   "metadata": {
    "id": "fZYji6y4y20T"
   },
   "source": [
    "1) From the classification report we can see that precision,recall,f1-score for 0 have same values as logistic regression. \n",
    "2) Logistic regression failed to predict 1,2 and 3, after applying Xg boost algorithm we can see the model giving decent prediction percentages for values other than 0.\n",
    "3) Even though Xg boost model's acuracy score is 85% it produced less recall and precisions scores for 1,2 and 3 when compared with KNN model.\n",
    "4) Considering all these scenarios we can say that we need an algorithm which can produce decent recall values with good prediction percentages.\n"
   ]
  }
 ],
 "metadata": {
  "colab": {
   "collapsed_sections": [],
   "name": "XgBoost_TejaRamisetty.ipynb",
   "provenance": []
  },
  "kernelspec": {
   "display_name": "Python 3 (ipykernel)",
   "language": "python",
   "name": "python3"
  },
  "language_info": {
   "codemirror_mode": {
    "name": "ipython",
    "version": 3
   },
   "file_extension": ".py",
   "mimetype": "text/x-python",
   "name": "python",
   "nbconvert_exporter": "python",
   "pygments_lexer": "ipython3",
   "version": "3.7.0"
  }
 },
 "nbformat": 4,
 "nbformat_minor": 5
}
