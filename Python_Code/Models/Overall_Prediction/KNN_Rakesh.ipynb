{
 "cells": [
  {
   "cell_type": "code",
   "execution_count": 1,
   "id": "e19a3340",
   "metadata": {},
   "outputs": [],
   "source": [
    "import warnings\n",
    "warnings.filterwarnings('ignore')\n",
    "import pandas as pd\n",
    "import numpy as np\n",
    "from sklearn.model_selection import train_test_split\n",
    "from sklearn.preprocessing import StandardScaler"
   ]
  },
  {
   "cell_type": "code",
   "execution_count": 2,
   "id": "a12709ed",
   "metadata": {},
   "outputs": [],
   "source": [
    "#Importing Clean Data\n",
    "data_frame=pd.read_csv('Encoded_Data.csv')"
   ]
  },
  {
   "cell_type": "code",
   "execution_count": 3,
   "id": "a13513a1",
   "metadata": {},
   "outputs": [],
   "source": [
    "X = data_frame.drop('Medal',axis=1)\n",
    "Y = data_frame[['Medal']]"
   ]
  },
  {
   "cell_type": "code",
   "execution_count": 4,
   "id": "10cd8448",
   "metadata": {},
   "outputs": [],
   "source": [
    "#Splitting Data\n",
    "x_train, x_test, y_train, y_test = train_test_split(X, Y, test_size = 0.4, random_state = 100)"
   ]
  },
  {
   "cell_type": "code",
   "execution_count": 5,
   "id": "e6a166fd",
   "metadata": {},
   "outputs": [],
   "source": [
    "#Building KNN Classifier\n",
    "from sklearn.neighbors import KNeighborsClassifier\n",
    "neigh = KNeighborsClassifier().fit(x_train,y_train)"
   ]
  },
  {
   "cell_type": "code",
   "execution_count": 6,
   "id": "1a9d0a18",
   "metadata": {},
   "outputs": [],
   "source": [
    "y_hat = neigh.predict(x_test)"
   ]
  },
  {
   "cell_type": "code",
   "execution_count": 7,
   "id": "bb6cc91e",
   "metadata": {},
   "outputs": [
    {
     "data": {
      "text/plain": [
       "0.8968134214085326"
      ]
     },
     "execution_count": 7,
     "metadata": {},
     "output_type": "execute_result"
    }
   ],
   "source": [
    "from sklearn import metrics\n",
    "metrics.accuracy_score(y_test,y_hat)"
   ]
  },
  {
   "cell_type": "code",
   "execution_count": 8,
   "id": "179b26ad",
   "metadata": {},
   "outputs": [
    {
     "name": "stdout",
     "output_type": "stream",
     "text": [
      "              precision    recall  f1-score   support\n",
      "\n",
      "           0       0.92      0.97      0.95     76435\n",
      "           1       0.69      0.47      0.56      4401\n",
      "           2       0.70      0.41      0.51      4361\n",
      "           3       0.70      0.44      0.54      4272\n",
      "\n",
      "    accuracy                           0.90     89469\n",
      "   macro avg       0.75      0.57      0.64     89469\n",
      "weighted avg       0.88      0.90      0.89     89469\n",
      "\n"
     ]
    }
   ],
   "source": [
    "from sklearn.metrics import classification_report\n",
    "print(classification_report(y_test, y_hat))"
   ]
  },
  {
   "cell_type": "code",
   "execution_count": null,
   "id": "f65823f3",
   "metadata": {},
   "outputs": [],
   "source": []
  }
 ],
 "metadata": {
  "kernelspec": {
   "display_name": "Python 3 (ipykernel)",
   "language": "python",
   "name": "python3"
  },
  "language_info": {
   "codemirror_mode": {
    "name": "ipython",
    "version": 3
   },
   "file_extension": ".py",
   "mimetype": "text/x-python",
   "name": "python",
   "nbconvert_exporter": "python",
   "pygments_lexer": "ipython3",
   "version": "3.9.13"
  }
 },
 "nbformat": 4,
 "nbformat_minor": 5
}
