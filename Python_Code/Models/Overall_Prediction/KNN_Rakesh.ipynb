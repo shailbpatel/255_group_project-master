{
 "cells": [
  {
   "cell_type": "code",
   "execution_count": 23,
   "id": "e19a3340",
   "metadata": {},
   "outputs": [],
   "source": [
    "import warnings\n",
    "warnings.filterwarnings('ignore')\n",
    "import pandas as pd\n",
    "import numpy as np\n",
    "from sklearn.model_selection import train_test_split, cross_val_score, GridSearchCV\n",
    "from sklearn.preprocessing import StandardScaler\n",
    "from sklearn.neighbors import KNeighborsClassifier"
   ]
  },
  {
   "cell_type": "code",
   "execution_count": 24,
   "id": "a12709ed",
   "metadata": {},
   "outputs": [],
   "source": [
    "#Importing Clean Data\n",
    "data_frame=pd.read_csv('Encoded_Data.csv')"
   ]
  },
  {
   "cell_type": "code",
   "execution_count": 25,
   "id": "a13513a1",
   "metadata": {},
   "outputs": [],
   "source": [
    "X = data_frame.drop('Medal',axis=1)\n",
    "Y = data_frame[['Medal']]"
   ]
  },
  {
   "cell_type": "code",
   "execution_count": 26,
   "id": "7a44deba",
   "metadata": {},
   "outputs": [],
   "source": [
    "#feature scaling\n",
    "scaler = StandardScaler()\n",
    "X_scaled = scaler.fit_transform(X)"
   ]
  },
  {
   "cell_type": "code",
   "execution_count": 27,
   "id": "10cd8448",
   "metadata": {},
   "outputs": [],
   "source": [
    "#Splitting Data\n",
    "x_train, x_test, y_train, y_test = train_test_split(X, Y, test_size = 0.4, random_state = 100)"
   ]
  },
  {
   "cell_type": "code",
   "execution_count": 30,
   "id": "14853d2a",
   "metadata": {},
   "outputs": [],
   "source": [
    "param_grid = {\n",
    "    'n_neighbors': [5,10,15],\n",
    "    'weights': ['uniform'],\n",
    "    'p': [1]\n",
    "}"
   ]
  },
  {
   "cell_type": "code",
   "execution_count": 32,
   "id": "df02545d",
   "metadata": {},
   "outputs": [
    {
     "data": {
      "text/plain": [
       "KNeighborsClassifier(n_neighbors=10, p=1)"
      ]
     },
     "execution_count": 32,
     "metadata": {},
     "output_type": "execute_result"
    }
   ],
   "source": [
    "neigh = KNeighborsClassifier()\n",
    "grid_search = GridSearchCV(neigh, param_grid=param_grid, cv=10)\n",
    "grid_search.fit(X_scaled, Y)\n",
    "\n",
    "best_neigh = grid_search.best_estimator_\n",
    "neigh = best_neigh\n",
    "neigh.fit(x_train, y_train)"
   ]
  },
  {
   "cell_type": "code",
   "execution_count": null,
   "id": "e6a166fd",
   "metadata": {},
   "outputs": [],
   "source": []
  },
  {
   "cell_type": "code",
   "execution_count": 33,
   "id": "1a9d0a18",
   "metadata": {},
   "outputs": [],
   "source": [
    "y_hat = neigh.predict(x_test)"
   ]
  },
  {
   "cell_type": "code",
   "execution_count": 34,
   "id": "bb6cc91e",
   "metadata": {},
   "outputs": [
    {
     "data": {
      "text/plain": [
       "0.8848193126596402"
      ]
     },
     "execution_count": 34,
     "metadata": {},
     "output_type": "execute_result"
    }
   ],
   "source": [
    "from sklearn import metrics\n",
    "metrics.accuracy_score(y_test,y_hat)"
   ]
  },
  {
   "cell_type": "code",
   "execution_count": 35,
   "id": "179b26ad",
   "metadata": {},
   "outputs": [
    {
     "name": "stdout",
     "output_type": "stream",
     "text": [
      "              precision    recall  f1-score   support\n",
      "\n",
      "           0       0.90      0.98      0.94     92615\n",
      "           1       0.67      0.35      0.46      5350\n",
      "           2       0.71      0.26      0.38      5287\n",
      "           3       0.72      0.29      0.41      5195\n",
      "\n",
      "    accuracy                           0.88    108447\n",
      "   macro avg       0.75      0.47      0.55    108447\n",
      "weighted avg       0.87      0.88      0.86    108447\n",
      "\n"
     ]
    }
   ],
   "source": [
    "from sklearn.metrics import classification_report\n",
    "print(classification_report(y_test, y_hat))"
   ]
  },
  {
   "cell_type": "code",
   "execution_count": null,
   "id": "f65823f3",
   "metadata": {},
   "outputs": [],
   "source": []
  }
 ],
 "metadata": {
  "kernelspec": {
   "display_name": "Python 3 (ipykernel)",
   "language": "python",
   "name": "python3"
  },
  "language_info": {
   "codemirror_mode": {
    "name": "ipython",
    "version": 3
   },
   "file_extension": ".py",
   "mimetype": "text/x-python",
   "name": "python",
   "nbconvert_exporter": "python",
   "pygments_lexer": "ipython3",
   "version": "3.9.13"
  }
 },
 "nbformat": 4,
 "nbformat_minor": 5
}
