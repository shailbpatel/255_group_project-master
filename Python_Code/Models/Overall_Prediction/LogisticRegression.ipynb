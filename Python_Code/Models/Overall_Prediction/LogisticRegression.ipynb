{
 "cells": [
  {
   "cell_type": "code",
   "execution_count": 1,
   "metadata": {},
   "outputs": [],
   "source": [
    "import pandas as pd\n",
    "athlete_merged=pd.read_csv('Cleaned_Olympic_Data.csv')"
   ]
  },
  {
   "attachments": {},
   "cell_type": "markdown",
   "metadata": {},
   "source": [
    "Encoding Sex and Season Columns using Label Binarizer"
   ]
  },
  {
   "cell_type": "code",
   "execution_count": 2,
   "metadata": {},
   "outputs": [
    {
     "data": {
      "text/html": [
       "<div>\n",
       "<style scoped>\n",
       "    .dataframe tbody tr th:only-of-type {\n",
       "        vertical-align: middle;\n",
       "    }\n",
       "\n",
       "    .dataframe tbody tr th {\n",
       "        vertical-align: top;\n",
       "    }\n",
       "\n",
       "    .dataframe thead th {\n",
       "        text-align: right;\n",
       "    }\n",
       "</style>\n",
       "<table border=\"1\" class=\"dataframe\">\n",
       "  <thead>\n",
       "    <tr style=\"text-align: right;\">\n",
       "      <th></th>\n",
       "      <th>Sex</th>\n",
       "      <th>Age</th>\n",
       "      <th>Height</th>\n",
       "      <th>Weight</th>\n",
       "      <th>Team</th>\n",
       "      <th>NOC</th>\n",
       "      <th>Year</th>\n",
       "      <th>Season</th>\n",
       "      <th>City</th>\n",
       "      <th>Event</th>\n",
       "      <th>Medal</th>\n",
       "    </tr>\n",
       "  </thead>\n",
       "  <tbody>\n",
       "    <tr>\n",
       "      <th>0</th>\n",
       "      <td>1</td>\n",
       "      <td>24.0</td>\n",
       "      <td>180.0</td>\n",
       "      <td>80.0</td>\n",
       "      <td>China</td>\n",
       "      <td>CHN</td>\n",
       "      <td>1992</td>\n",
       "      <td>0</td>\n",
       "      <td>Barcelona</td>\n",
       "      <td>Basketball Men's Basketball</td>\n",
       "      <td>0</td>\n",
       "    </tr>\n",
       "    <tr>\n",
       "      <th>1</th>\n",
       "      <td>1</td>\n",
       "      <td>23.0</td>\n",
       "      <td>170.0</td>\n",
       "      <td>60.0</td>\n",
       "      <td>China</td>\n",
       "      <td>CHN</td>\n",
       "      <td>2012</td>\n",
       "      <td>0</td>\n",
       "      <td>London</td>\n",
       "      <td>Judo Men's Extra-Lightweight</td>\n",
       "      <td>0</td>\n",
       "    </tr>\n",
       "    <tr>\n",
       "      <th>2</th>\n",
       "      <td>1</td>\n",
       "      <td>24.0</td>\n",
       "      <td>175.0</td>\n",
       "      <td>70.0</td>\n",
       "      <td>Denmark</td>\n",
       "      <td>DEN</td>\n",
       "      <td>1920</td>\n",
       "      <td>0</td>\n",
       "      <td>Antwerpen</td>\n",
       "      <td>Football Men's Football</td>\n",
       "      <td>0</td>\n",
       "    </tr>\n",
       "    <tr>\n",
       "      <th>3</th>\n",
       "      <td>1</td>\n",
       "      <td>34.0</td>\n",
       "      <td>175.0</td>\n",
       "      <td>70.0</td>\n",
       "      <td>Denmark/Sweden</td>\n",
       "      <td>DEN</td>\n",
       "      <td>1900</td>\n",
       "      <td>0</td>\n",
       "      <td>Paris</td>\n",
       "      <td>Tug-Of-War Men's Tug-Of-War</td>\n",
       "      <td>1</td>\n",
       "    </tr>\n",
       "    <tr>\n",
       "      <th>4</th>\n",
       "      <td>0</td>\n",
       "      <td>21.0</td>\n",
       "      <td>185.0</td>\n",
       "      <td>82.0</td>\n",
       "      <td>Netherlands</td>\n",
       "      <td>NED</td>\n",
       "      <td>1988</td>\n",
       "      <td>1</td>\n",
       "      <td>Calgary</td>\n",
       "      <td>Speed Skating Women's 500 metres</td>\n",
       "      <td>0</td>\n",
       "    </tr>\n",
       "  </tbody>\n",
       "</table>\n",
       "</div>"
      ],
      "text/plain": [
       "   Sex   Age  Height  Weight            Team  NOC  Year  Season       City  \\\n",
       "0    1  24.0   180.0    80.0           China  CHN  1992       0  Barcelona   \n",
       "1    1  23.0   170.0    60.0           China  CHN  2012       0     London   \n",
       "2    1  24.0   175.0    70.0         Denmark  DEN  1920       0  Antwerpen   \n",
       "3    1  34.0   175.0    70.0  Denmark/Sweden  DEN  1900       0      Paris   \n",
       "4    0  21.0   185.0    82.0     Netherlands  NED  1988       1    Calgary   \n",
       "\n",
       "                              Event  Medal  \n",
       "0       Basketball Men's Basketball      0  \n",
       "1      Judo Men's Extra-Lightweight      0  \n",
       "2           Football Men's Football      0  \n",
       "3       Tug-Of-War Men's Tug-Of-War      1  \n",
       "4  Speed Skating Women's 500 metres      0  "
      ]
     },
     "execution_count": 2,
     "metadata": {},
     "output_type": "execute_result"
    }
   ],
   "source": [
    "from sklearn import preprocessing\n",
    "lb = preprocessing.LabelBinarizer()\n",
    "\n",
    "athlete_merged[\"Sex\"]=lb.fit_transform(athlete_merged[\"Sex\"])\n",
    "athlete_merged[\"Season\"]=lb.fit_transform(athlete_merged[\"Season\"])\n",
    "athlete_merged.head()"
   ]
  },
  {
   "attachments": {},
   "cell_type": "markdown",
   "metadata": {},
   "source": [
    "* Remaining categorical data columns Team,NOC,YEAR,Season,City,Events.\n",
    "* One option is to encode them using one hot encoding thechnique.\n",
    "* But it increases number of columns and building a ML model on these columns would increase complexity.\n",
    "* On the other hand we can encode every value in a cell based on its frquency of occurance.\n",
    "* Through this we can avoid thousands of columns and ML model can be built easily "
   ]
  },
  {
   "cell_type": "code",
   "execution_count": 3,
   "metadata": {},
   "outputs": [],
   "source": [
    "#Creating dictionaries which consists Unique value of each column and their count.\n",
    "team_dict=athlete_merged['Team'].value_counts().to_dict()\n",
    "NOC_dict=athlete_merged['NOC'].value_counts().to_dict()\n",
    "city_dict=athlete_merged['City'].value_counts().to_dict()\n",
    "event_dict=athlete_merged['Event'].value_counts().to_dict()"
   ]
  },
  {
   "cell_type": "code",
   "execution_count": 4,
   "metadata": {},
   "outputs": [],
   "source": [
    "# Mapping categorical columns with the frequency \n",
    "athlete_merged['Team']=athlete_merged['Team'].map(team_dict)\n",
    "athlete_merged['NOC']=athlete_merged['NOC'].map(NOC_dict)\n",
    "athlete_merged['City']=athlete_merged['City'].map(city_dict)\n",
    "athlete_merged['Event']=athlete_merged['Event'].map(event_dict)"
   ]
  },
  {
   "cell_type": "code",
   "execution_count": 5,
   "metadata": {},
   "outputs": [
    {
     "data": {
      "text/html": [
       "<div>\n",
       "<style scoped>\n",
       "    .dataframe tbody tr th:only-of-type {\n",
       "        vertical-align: middle;\n",
       "    }\n",
       "\n",
       "    .dataframe tbody tr th {\n",
       "        vertical-align: top;\n",
       "    }\n",
       "\n",
       "    .dataframe thead th {\n",
       "        text-align: right;\n",
       "    }\n",
       "</style>\n",
       "<table border=\"1\" class=\"dataframe\">\n",
       "  <thead>\n",
       "    <tr style=\"text-align: right;\">\n",
       "      <th></th>\n",
       "      <th>Sex</th>\n",
       "      <th>Age</th>\n",
       "      <th>Height</th>\n",
       "      <th>Weight</th>\n",
       "      <th>Team</th>\n",
       "      <th>NOC</th>\n",
       "      <th>Year</th>\n",
       "      <th>Season</th>\n",
       "      <th>City</th>\n",
       "      <th>Event</th>\n",
       "      <th>Medal</th>\n",
       "    </tr>\n",
       "  </thead>\n",
       "  <tbody>\n",
       "    <tr>\n",
       "      <th>0</th>\n",
       "      <td>1</td>\n",
       "      <td>24.0</td>\n",
       "      <td>180.0</td>\n",
       "      <td>80.0</td>\n",
       "      <td>4975</td>\n",
       "      <td>5141</td>\n",
       "      <td>1992</td>\n",
       "      <td>0</td>\n",
       "      <td>12977</td>\n",
       "      <td>3280</td>\n",
       "      <td>0</td>\n",
       "    </tr>\n",
       "    <tr>\n",
       "      <th>1</th>\n",
       "      <td>1</td>\n",
       "      <td>23.0</td>\n",
       "      <td>170.0</td>\n",
       "      <td>60.0</td>\n",
       "      <td>4975</td>\n",
       "      <td>5141</td>\n",
       "      <td>2012</td>\n",
       "      <td>0</td>\n",
       "      <td>22426</td>\n",
       "      <td>341</td>\n",
       "      <td>0</td>\n",
       "    </tr>\n",
       "    <tr>\n",
       "      <th>2</th>\n",
       "      <td>1</td>\n",
       "      <td>24.0</td>\n",
       "      <td>175.0</td>\n",
       "      <td>70.0</td>\n",
       "      <td>3424</td>\n",
       "      <td>3570</td>\n",
       "      <td>1920</td>\n",
       "      <td>0</td>\n",
       "      <td>4292</td>\n",
       "      <td>5733</td>\n",
       "      <td>0</td>\n",
       "    </tr>\n",
       "    <tr>\n",
       "      <th>3</th>\n",
       "      <td>1</td>\n",
       "      <td>34.0</td>\n",
       "      <td>175.0</td>\n",
       "      <td>70.0</td>\n",
       "      <td>6</td>\n",
       "      <td>3570</td>\n",
       "      <td>1900</td>\n",
       "      <td>0</td>\n",
       "      <td>7169</td>\n",
       "      <td>170</td>\n",
       "      <td>1</td>\n",
       "    </tr>\n",
       "    <tr>\n",
       "      <th>4</th>\n",
       "      <td>0</td>\n",
       "      <td>21.0</td>\n",
       "      <td>185.0</td>\n",
       "      <td>82.0</td>\n",
       "      <td>5718</td>\n",
       "      <td>5839</td>\n",
       "      <td>1988</td>\n",
       "      <td>1</td>\n",
       "      <td>2639</td>\n",
       "      <td>467</td>\n",
       "      <td>0</td>\n",
       "    </tr>\n",
       "  </tbody>\n",
       "</table>\n",
       "</div>"
      ],
      "text/plain": [
       "   Sex   Age  Height  Weight  Team   NOC  Year  Season   City  Event  Medal\n",
       "0    1  24.0   180.0    80.0  4975  5141  1992       0  12977   3280      0\n",
       "1    1  23.0   170.0    60.0  4975  5141  2012       0  22426    341      0\n",
       "2    1  24.0   175.0    70.0  3424  3570  1920       0   4292   5733      0\n",
       "3    1  34.0   175.0    70.0     6  3570  1900       0   7169    170      1\n",
       "4    0  21.0   185.0    82.0  5718  5839  1988       1   2639    467      0"
      ]
     },
     "execution_count": 5,
     "metadata": {},
     "output_type": "execute_result"
    }
   ],
   "source": [
    "athlete_merged.head()"
   ]
  },
  {
   "attachments": {},
   "cell_type": "markdown",
   "metadata": {},
   "source": [
    "From the Medal column we can say that our outcome is categorical so we can apply following models on our data and select the one which gives high accuracy.\n",
    "1) Logistic Regression Model. \n",
    "2) KNN(K nearest neighbour) Model.\n",
    "3) Apply Random Forrest."
   ]
  },
  {
   "cell_type": "code",
   "execution_count": 6,
   "metadata": {},
   "outputs": [
    {
     "data": {
      "text/plain": [
       "<seaborn.axisgrid.PairGrid at 0x7f7c60dda510>"
      ]
     },
     "execution_count": 6,
     "metadata": {},
     "output_type": "execute_result"
    }
   ],
   "source": [
    "import seaborn as sns\n",
    "sns.pairplot(athlete_merged)"
   ]
  },
  {
   "attachments": {},
   "cell_type": "markdown",
   "metadata": {},
   "source": [
    "* From the plot we can observe that there are many columns which doesn't have linear relationship with the other columns so we cannot apply linear regression model. Applying linear regression model for our data set would not give good prediction values.\n",
    "* Intially, we'll apply linear regression model and see if the above identification is true or not. \n",
    "* Then we'll work on KNN model as it is less complex to build.\n",
    "* Later, we'll work on Decision tree model, Random forrest model to check if we can achieve good efficiency.  "
   ]
  },
  {
   "cell_type": "code",
   "execution_count": null,
   "metadata": {},
   "outputs": [],
   "source": []
  }
 ],
 "metadata": {
  "kernelspec": {
   "display_name": "Python 3",
   "language": "python",
   "name": "python3"
  },
  "language_info": {
   "codemirror_mode": {
    "name": "ipython",
    "version": 2
   },
   "file_extension": ".py",
   "mimetype": "text/x-python",
   "name": "python",
   "nbconvert_exporter": "python",
   "pygments_lexer": "ipython2",
   "version": "2.7.18"
  },
  "orig_nbformat": 4
 },
 "nbformat": 4,
 "nbformat_minor": 2
}
